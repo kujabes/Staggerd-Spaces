{
 "cells": [
  {
   "attachments": {},
   "cell_type": "markdown",
   "metadata": {},
   "source": [
    "For any given string, we can consider a space with each letter of the alphabet as linearly independent / orthogonal and any string as some linear combination of the each letter. (How do we maintain ordering?)"
   ]
  },
  {
   "attachments": {},
   "cell_type": "markdown",
   "metadata": {},
   "source": []
  },
  {
   "cell_type": "code",
   "execution_count": 5,
   "metadata": {},
   "outputs": [],
   "source": [
    "import pandas as pd\n",
    "import numpy as np"
   ]
  },
  {
   "cell_type": "code",
   "execution_count": 3,
   "metadata": {},
   "outputs": [
    {
     "data": {
      "text/plain": [
       "(1020868, 5)"
      ]
     },
     "execution_count": 3,
     "metadata": {},
     "output_type": "execute_result"
    }
   ],
   "source": [
    "# Loading in Generic KB dataset which has a collection of generic\n",
    "# sentences. Try to implement staggered space on the generic sentences\n",
    "df = pd.read_table('./dataSets/GenericsKB-Best.tsv')\n",
    "df.shape"
   ]
  },
  {
   "cell_type": "code",
   "execution_count": 4,
   "metadata": {},
   "outputs": [
    {
     "data": {
      "text/html": [
       "<div>\n",
       "<style scoped>\n",
       "    .dataframe tbody tr th:only-of-type {\n",
       "        vertical-align: middle;\n",
       "    }\n",
       "\n",
       "    .dataframe tbody tr th {\n",
       "        vertical-align: top;\n",
       "    }\n",
       "\n",
       "    .dataframe thead th {\n",
       "        text-align: right;\n",
       "    }\n",
       "</style>\n",
       "<table border=\"1\" class=\"dataframe\">\n",
       "  <thead>\n",
       "    <tr style=\"text-align: right;\">\n",
       "      <th></th>\n",
       "      <th>SOURCE</th>\n",
       "      <th>TERM</th>\n",
       "      <th>QUANTIFIER</th>\n",
       "      <th>GENERIC SENTENCE</th>\n",
       "      <th>SCORE</th>\n",
       "    </tr>\n",
       "  </thead>\n",
       "  <tbody>\n",
       "    <tr>\n",
       "      <th>0</th>\n",
       "      <td>Waterloo</td>\n",
       "      <td>aa battery</td>\n",
       "      <td>NaN</td>\n",
       "      <td>AA batteries maintain the settings if the powe...</td>\n",
       "      <td>0.350923</td>\n",
       "    </tr>\n",
       "    <tr>\n",
       "      <th>1</th>\n",
       "      <td>ARC</td>\n",
       "      <td>aardvark female</td>\n",
       "      <td>NaN</td>\n",
       "      <td>Aardvark females appear to come into season on...</td>\n",
       "      <td>0.570737</td>\n",
       "    </tr>\n",
       "    <tr>\n",
       "      <th>2</th>\n",
       "      <td>ARC</td>\n",
       "      <td>aardvark hole</td>\n",
       "      <td>NaN</td>\n",
       "      <td>Aardvark holes are used by small buck as a res...</td>\n",
       "      <td>0.574909</td>\n",
       "    </tr>\n",
       "    <tr>\n",
       "      <th>3</th>\n",
       "      <td>Waterloo</td>\n",
       "      <td>aardvark skin</td>\n",
       "      <td>NaN</td>\n",
       "      <td>Aardvark skin is thick and sparsely haired.</td>\n",
       "      <td>0.444273</td>\n",
       "    </tr>\n",
       "    <tr>\n",
       "      <th>4</th>\n",
       "      <td>WordNet3.0</td>\n",
       "      <td>aardvark</td>\n",
       "      <td>NaN</td>\n",
       "      <td>Aardvark isa mammal.</td>\n",
       "      <td>1.000000</td>\n",
       "    </tr>\n",
       "  </tbody>\n",
       "</table>\n",
       "</div>"
      ],
      "text/plain": [
       "       SOURCE             TERM QUANTIFIER  \\\n",
       "0    Waterloo       aa battery        NaN   \n",
       "1         ARC  aardvark female        NaN   \n",
       "2         ARC    aardvark hole        NaN   \n",
       "3    Waterloo    aardvark skin        NaN   \n",
       "4  WordNet3.0         aardvark        NaN   \n",
       "\n",
       "                                    GENERIC SENTENCE     SCORE  \n",
       "0  AA batteries maintain the settings if the powe...  0.350923  \n",
       "1  Aardvark females appear to come into season on...  0.570737  \n",
       "2  Aardvark holes are used by small buck as a res...  0.574909  \n",
       "3        Aardvark skin is thick and sparsely haired.  0.444273  \n",
       "4                               Aardvark isa mammal.  1.000000  "
      ]
     },
     "execution_count": 4,
     "metadata": {},
     "output_type": "execute_result"
    }
   ],
   "source": [
    "df.head()"
   ]
  },
  {
   "cell_type": "code",
   "execution_count": 8,
   "metadata": {},
   "outputs": [
    {
     "data": {
      "text/html": [
       "<div>\n",
       "<style scoped>\n",
       "    .dataframe tbody tr th:only-of-type {\n",
       "        vertical-align: middle;\n",
       "    }\n",
       "\n",
       "    .dataframe tbody tr th {\n",
       "        vertical-align: top;\n",
       "    }\n",
       "\n",
       "    .dataframe thead th {\n",
       "        text-align: right;\n",
       "    }\n",
       "</style>\n",
       "<table border=\"1\" class=\"dataframe\">\n",
       "  <thead>\n",
       "    <tr style=\"text-align: right;\">\n",
       "      <th></th>\n",
       "      <th>SOURCE</th>\n",
       "      <th>TERM</th>\n",
       "      <th>QUANTIFIER</th>\n",
       "      <th>GENERIC SENTENCE</th>\n",
       "      <th>SCORE</th>\n",
       "    </tr>\n",
       "  </thead>\n",
       "  <tbody>\n",
       "    <tr>\n",
       "      <th>1020863</th>\n",
       "      <td>ARC</td>\n",
       "      <td>zygotic meiosis</td>\n",
       "      <td>NaN</td>\n",
       "      <td>Zygotic meiosis occurs in bi flagellates and s...</td>\n",
       "      <td>0.780073</td>\n",
       "    </tr>\n",
       "    <tr>\n",
       "      <th>1020864</th>\n",
       "      <td>ARC</td>\n",
       "      <td>zygotic meiosis</td>\n",
       "      <td>NaN</td>\n",
       "      <td>Zygotic meiosis takes place in haploid protist...</td>\n",
       "      <td>0.778516</td>\n",
       "    </tr>\n",
       "    <tr>\n",
       "      <th>1020865</th>\n",
       "      <td>Waterloo</td>\n",
       "      <td>zygotic transcription</td>\n",
       "      <td>NaN</td>\n",
       "      <td>Zygotic transcription is required to block a m...</td>\n",
       "      <td>0.759783</td>\n",
       "    </tr>\n",
       "    <tr>\n",
       "      <th>1020866</th>\n",
       "      <td>Waterloo</td>\n",
       "      <td>zyplar soil</td>\n",
       "      <td>NaN</td>\n",
       "      <td>Zyplar soils are on pediments.</td>\n",
       "      <td>0.607443</td>\n",
       "    </tr>\n",
       "    <tr>\n",
       "      <th>1020867</th>\n",
       "      <td>Waterloo</td>\n",
       "      <td>zyplar soil</td>\n",
       "      <td>NaN</td>\n",
       "      <td>Zyplar soils are on rock pediments.</td>\n",
       "      <td>0.687016</td>\n",
       "    </tr>\n",
       "  </tbody>\n",
       "</table>\n",
       "</div>"
      ],
      "text/plain": [
       "           SOURCE                   TERM QUANTIFIER  \\\n",
       "1020863       ARC        zygotic meiosis        NaN   \n",
       "1020864       ARC        zygotic meiosis        NaN   \n",
       "1020865  Waterloo  zygotic transcription        NaN   \n",
       "1020866  Waterloo            zyplar soil        NaN   \n",
       "1020867  Waterloo            zyplar soil        NaN   \n",
       "\n",
       "                                          GENERIC SENTENCE     SCORE  \n",
       "1020863  Zygotic meiosis occurs in bi flagellates and s...  0.780073  \n",
       "1020864  Zygotic meiosis takes place in haploid protist...  0.778516  \n",
       "1020865  Zygotic transcription is required to block a m...  0.759783  \n",
       "1020866                     Zyplar soils are on pediments.  0.607443  \n",
       "1020867                Zyplar soils are on rock pediments.  0.687016  "
      ]
     },
     "execution_count": 8,
     "metadata": {},
     "output_type": "execute_result"
    }
   ],
   "source": [
    "df.tail()"
   ]
  },
  {
   "cell_type": "code",
   "execution_count": null,
   "metadata": {},
   "outputs": [],
   "source": []
  }
 ],
 "metadata": {
  "kernelspec": {
   "display_name": "Python 3",
   "language": "python",
   "name": "python3"
  },
  "language_info": {
   "codemirror_mode": {
    "name": "ipython",
    "version": 3
   },
   "file_extension": ".py",
   "mimetype": "text/x-python",
   "name": "python",
   "nbconvert_exporter": "python",
   "pygments_lexer": "ipython3",
   "version": "3.9.6"
  },
  "orig_nbformat": 4
 },
 "nbformat": 4,
 "nbformat_minor": 2
}
